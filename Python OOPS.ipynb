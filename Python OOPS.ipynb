{
 "cells": [
  {
   "cell_type": "markdown",
   "id": "88883420",
   "metadata": {},
   "source": [
    "### 1. **What is Object-Oriented Programming (OOP)?**\n",
    "\n",
    "Object-Oriented Programming (OOP) is a programming paradigm that structures programs using classes and objects. It allows developers to model real-world entities as objects that contain both data (attributes) and behavior (methods). OOP promotes code reusability, modularity, and easier maintenance through its core principles: encapsulation, abstraction, inheritance, and polymorphism.\n",
    "\n",
    "\n",
    "### 2. **What is a class in OOP?**\n",
    "\n",
    "A class in OOP is a blueprint or template for creating objects. It defines the attributes and methods that the created objects will have. Essentially, a class acts as a user-defined data type that holds common behaviors and properties for all its instances. For example, a `Car` class may define properties like brand and methods like start or stop.\n",
    "\n",
    "\n",
    "### 3. **What is an object in OOP?**\n",
    "\n",
    "An object is an instance of a class. It represents a real-world entity that has specific values for the attributes defined in the class and can perform the behaviors (methods) associated with it. For instance, if `Car` is a class, then `my_car = Car(\"Toyota\")` creates an object `my_car` which has the properties of the `Car` class.\n",
    "\n",
    "\n",
    "### 4. **Difference between abstraction and encapsulation?**\n",
    "\n",
    "Abstraction and encapsulation are both core principles of OOP but serve different purposes. Abstraction focuses on hiding the internal implementation details and showing only the essential features of an object. It helps in reducing complexity. Encapsulation, on the other hand, is about restricting direct access to some of an object’s components by making variables private and providing public methods to access or modify them. While abstraction is concerned with what an object does, encapsulation is about how it does it.\n",
    "\n",
    "### 5. **What are dunder methods in Python?**\n",
    "\n",
    "Dunder methods, short for \"double underscore\" methods, are special methods in Python that begin and end with double underscores, such as `__init__`, `__str__`, and `__add__`. These methods allow classes to implement behavior that mimics built-in types, such as initialization, string representation, operator overloading, and more. They make objects interact naturally with Python syntax and built-in functions.\n",
    "\n",
    "\n",
    "### 6. **Explain inheritance in OOP.**\n",
    "\n",
    "Inheritance is a principle in OOP that allows one class (called the child or subclass) to inherit attributes and methods from another class (called the parent or superclass). This promotes code reusability and establishes a relationship between classes. For example, if a `Vehicle` class has general methods like `start()`, a `Car` class can inherit from `Vehicle` and reuse those methods while adding car-specific features.\n",
    "\n",
    "\n",
    "### 7. **What is polymorphism in OOP?**\n",
    "\n",
    "Polymorphism means \"many forms\" and allows methods to behave differently based on the object calling them. In OOP, polymorphism enables the same method name to be used in different classes with different implementations. For example, both a `Dog` and a `Cat` class might have a `speak()` method, but each will produce a different output. Polymorphism makes code more flexible and extensible.\n",
    "\n",
    "---\n",
    "\n",
    "### 8. **How is encapsulation achieved in Python?**\n",
    "\n",
    "Encapsulation in Python is achieved by defining class attributes as private using a single or double underscore prefix, such as `_balance` or `__balance`. Access to these variables is then controlled using getter and setter methods. This prevents outside interference and ensures that the internal state of an object can only be changed in a controlled manner, enhancing data security and integrity.\n",
    "\n",
    "\n",
    "\n",
    "### 9. **What is a constructor in Python?**\n",
    "\n",
    "In Python, a constructor is a special method named `__init__()` that is automatically called when a new object of a class is created. It is used to initialize the object's attributes with user-defined or default values. Constructors help in setting up the initial state of the object at the time of creation.\n",
    "\n",
    "\n",
    "### 10. **Class methods vs static methods in Python?**\n",
    "\n",
    "Class methods and static methods are both methods that do not require access to instance-specific data. A class method is declared using the `@classmethod` decorator and takes `cls` as its first parameter, allowing access to class-level data. Static methods, defined with the `@staticmethod` decorator, do not take either `self` or `cls` and act like regular functions within a class, often used for utility operations related to the class but not dependent on class or instance data.\n",
    "\n",
    "\n",
    "\n",
    "### 11. **What is method overloading in Python?**\n",
    "\n",
    "Method overloading refers to defining multiple methods with the same name but different parameters. While traditional method overloading is not directly supported in Python, similar behavior can be achieved using default parameters, `*args`, or conditional logic inside a method to handle various cases. It helps increase the flexibility of functions and methods.\n",
    "\n",
    "\n",
    "### 12. **What is method overriding in OOP?**\n",
    "\n",
    "Method overriding occurs when a subclass provides its own implementation of a method that is already defined in its parent class. This allows a subclass to modify or completely replace the behavior of the inherited method, enabling specific behavior in the child class while maintaining the method signature.\n",
    "\n",
    "\n",
    "\n",
    "### 13. **What is a property decorator in Python?**\n",
    "\n",
    "The `@property` decorator in Python is used to define methods that behave like attributes. It allows you to access a method as if it were a variable. This is often used for implementing getters and allows encapsulated access to private data in a clean, readable way.\n",
    "\n",
    "\n",
    "### 14. **Why is polymorphism important in OOP?**\n",
    "\n",
    "Polymorphism is important in OOP because it enables flexibility and scalability in code. It allows a single function or method to work with different types of objects, reducing redundancy and simplifying code. It also enables interface consistency and dynamic method binding during runtime.\n",
    "\n",
    "\n",
    "### 15. **What is an abstract class in Python?**\n",
    "\n",
    "An abstract class in Python is a class that cannot be instantiated and is designed to be a base class for other classes. It contains one or more abstract methods, which are methods declared but not implemented. Abstract classes are defined using the `abc` module and help enforce a consistent interface in subclasses.\n",
    "\n",
    "\n",
    "### 16. **Advantages of OOP?**\n",
    "\n",
    "OOP offers many advantages such as modularity, which makes code easier to manage; reusability, allowing classes to be used in different programs; encapsulation, which protects data; inheritance, which reduces code duplication; and polymorphism, which enables flexible and scalable code design. Overall, OOP helps in building complex applications in a structured and maintainable way.\n",
    "\n",
    "\n",
    "### 17. **Difference between class variable and instance variable?**\n",
    "\n",
    "A class variable is shared by all instances of the class and is defined outside any methods. It is used when a value should be the same for all objects. An instance variable, on the other hand, is unique to each object and is usually defined within the constructor using `self`. Changes to an instance variable affect only that object, while changes to a class variable affect all instances.\n",
    "\n",
    "\n",
    "### 18. **What is multiple inheritance in Python?**\n",
    "\n",
    "Multiple inheritance is a feature in Python where a class can inherit from more than one parent class. This allows a subclass to combine behaviors and attributes of multiple base classes. However, it can also lead to complexity such as the diamond problem, which Python resolves using the Method Resolution Order (MRO).\n",
    "\n",
    "\n",
    "\n",
    "### 19. **Purpose of `__str__` and `__repr__` methods?**\n",
    "\n",
    "The `__str__` method returns a readable string representation of an object for end-users, often used with `print()`. The `__repr__` method returns a detailed and unambiguous string representation meant for developers, often used in debugging. If `__str__` is not defined, Python uses `__repr__` as a fallback.\n",
    "\n",
    "\n",
    "\n",
    "### 20. **Significance of `super()` function in Python?**\n",
    "\n",
    "The `super()` function is used to call methods from a parent or sibling class. It is commonly used in constructors to ensure that the initialization of parent classes is performed when working with inheritance. It helps maintain proper method resolution and avoids duplicating code from base classes.\n",
    "\n",
    "\n",
    "\n",
    "### 21. **Significance of `__del__` method in Python?**\n",
    "\n",
    "The `__del__` method is a destructor in Python that is called when an object is about to be deleted or garbage collected. It can be used to perform cleanup operations such as closing files or releasing resources. However, its use is generally discouraged unless necessary, as Python’s garbage collector handles most cleanup.\n",
    "\n",
    "\n",
    "\n",
    "### 22. **Difference between `@staticmethod` and `@classmethod`?**\n",
    "\n",
    "A static method is a method that does not access instance or class-level data and behaves like a regular function placed inside a class. It is marked with `@staticmethod`. A class method, marked with `@classmethod`, takes the class (`cls`) as its first argument and can access or modify class-level variables. Static methods are useful for utility functions, while class methods are used when behavior needs to affect the class itself.\n",
    "\n",
    "\n",
    "\n",
    "### 23. **How does polymorphism work in Python with inheritance?**\n",
    "\n",
    "In Python, polymorphism through inheritance allows objects of different classes that share a common superclass to be treated as instances of that superclass. When a method is called on the parent reference, the child’s overridden method is executed if it exists, enabling dynamic behavior based on the object’s type.\n",
    "\n",
    "\n",
    "\n",
    "### 24. **What is method chaining in Python OOP?**\n",
    "\n",
    "Method chaining is a technique where multiple methods are called on the same object in a single line. This is achieved by having each method return `self`. It improves code readability and fluency, especially in builder patterns or data transformation pipelines.\n",
    "\n",
    "\n",
    "### 25. **What is the purpose of `__call__` method?**\n",
    "\n",
    "The `__call__` method allows an object to be called like a regular function. When defined in a class, calling an instance of that class executes the `__call__` method. This is useful for cases where the object needs to behave like a function or where additional control over invocation is required.\n",
    "\n"
   ]
  },
  {
   "cell_type": "code",
   "execution_count": 1,
   "id": "345396f5",
   "metadata": {},
   "outputs": [
    {
     "name": "stdout",
     "output_type": "stream",
     "text": [
      "Bark!\n"
     ]
    }
   ],
   "source": [
    "#1. Create a parent class Animal with a method speak() that prints a generic message. Create a child class Dog\n",
    "#that overrides the speak() method to print \"Bark!\".\n",
    "\n",
    "class Animal:\n",
    "    def speak(self):\n",
    "        print(\"This is a generic animal sound.\")\n",
    "\n",
    "class Dog(Animal):\n",
    "    def speak(self):\n",
    "        print(\"Bark!\")\n",
    "\n",
    "dog = Dog()\n",
    "dog.speak()\n"
   ]
  },
  {
   "cell_type": "code",
   "execution_count": 2,
   "id": "3c87153c",
   "metadata": {},
   "outputs": [
    {
     "name": "stdout",
     "output_type": "stream",
     "text": [
      "Circle Area: 78.5\n",
      "Rectangle Area: 24\n"
     ]
    }
   ],
   "source": [
    "#2. Write a program to create an abstract class Shape with a method area(). Derive classes Circle and Rectangle\n",
    "#from it and implement the area() method in both.\n",
    "from abc import ABC, abstractmethod\n",
    "\n",
    "class Shape(ABC):\n",
    "    @abstractmethod\n",
    "    def area(self):\n",
    "        pass\n",
    "\n",
    "class Circle(Shape):\n",
    "    def __init__(self, radius):\n",
    "        self.radius = radius\n",
    "    \n",
    "    def area(self):\n",
    "        return 3.14 * self.radius * self.radius\n",
    "\n",
    "class Rectangle(Shape):\n",
    "    def __init__(self, length, width):\n",
    "        self.length = length\n",
    "        self.width = width\n",
    "    \n",
    "    def area(self):\n",
    "        return self.length * self.width\n",
    "\n",
    "circle = Circle(5)\n",
    "rectangle = Rectangle(4, 6)\n",
    "\n",
    "print(\"Circle Area:\", circle.area())\n",
    "print(\"Rectangle Area:\", rectangle.area())\n"
   ]
  },
  {
   "cell_type": "code",
   "execution_count": 3,
   "id": "0b0ec736",
   "metadata": {},
   "outputs": [
    {
     "name": "stdout",
     "output_type": "stream",
     "text": [
      "Type: Electric, Brand: Tesla, Battery: 75 kWh\n"
     ]
    }
   ],
   "source": [
    "#3. Implement a multi-level inheritance scenario where a class Vehicle has an attribute type. Derive a class Car\n",
    "#and further derive a class ElectricCar that adds a battery attribute.\n",
    "class Vehicle:\n",
    "    def __init__(self, type):\n",
    "        self.type = type\n",
    "\n",
    "class Car(Vehicle):\n",
    "    def __init__(self, type, brand):\n",
    "        super().__init__(type)\n",
    "        self.brand = brand\n",
    "\n",
    "class ElectricCar(Car):\n",
    "    def __init__(self, type, brand, battery):\n",
    "        super().__init__(type, brand)\n",
    "        self.battery = battery\n",
    "\n",
    "e_car = ElectricCar(\"Electric\", \"Tesla\", \"75 kWh\")\n",
    "print(f\"Type: {e_car.type}, Brand: {e_car.brand}, Battery: {e_car.battery}\")\n"
   ]
  },
  {
   "cell_type": "code",
   "execution_count": 16,
   "id": "cf0b5e13",
   "metadata": {},
   "outputs": [
    {
     "name": "stdout",
     "output_type": "stream",
     "text": [
      "Sparrow flies high.\n",
      "Penguins can't fly.\n"
     ]
    }
   ],
   "source": [
    "#4. Demonstrate polymorphism by creating a base class Bird with a method fly(). Create two derived classes\n",
    "#Sparrow and Penguin that override the fly() method.\n",
    "\n",
    "\n",
    "class Bird:\n",
    "    def fly(self):\n",
    "        print(\"Some birds can fly.\")\n",
    "\n",
    "class Sparrow(Bird):\n",
    "    def fly(self):\n",
    "        print(\"Sparrow flies high.\")\n",
    "\n",
    "class Penguin(Bird):\n",
    "    def fly(self):\n",
    "        print(\"Penguins can't fly.\")\n",
    "\n",
    "birds = [Sparrow(), Penguin()]\n",
    "for bird in birds:\n",
    "    bird.fly()\n"
   ]
  },
  {
   "cell_type": "code",
   "execution_count": 17,
   "id": "800a3184",
   "metadata": {},
   "outputs": [
    {
     "name": "stdout",
     "output_type": "stream",
     "text": [
      "Balance: 300\n"
     ]
    }
   ],
   "source": [
    "#5. Write a program to demonstrate encapsulation by creating a class BankAccount with private attributes\n",
    "#balance and methods to deposit, withdraw, and check balance.\n",
    "\n",
    "class BankAccount:\n",
    "    def __init__(self):\n",
    "        self.__balance = 0\n",
    "\n",
    "    def deposit(self, amount):\n",
    "        self.__balance += amount\n",
    "\n",
    "    def withdraw(self, amount):\n",
    "        if amount <= self.__balance:\n",
    "            self.__balance -= amount\n",
    "        else:\n",
    "            print(\"Insufficient funds\")\n",
    "\n",
    "    def check_balance(self):\n",
    "        print(\"Balance:\", self.__balance)\n",
    "\n",
    "account = BankAccount()\n",
    "account.deposit(500)\n",
    "account.withdraw(200)\n",
    "account.check_balance()\n"
   ]
  },
  {
   "cell_type": "code",
   "execution_count": 18,
   "id": "9eb56c2a",
   "metadata": {},
   "outputs": [
    {
     "name": "stdout",
     "output_type": "stream",
     "text": [
      "Playing the guitar.\n",
      "Playing the piano.\n"
     ]
    }
   ],
   "source": [
    "#6. Demonstrate runtime polymorphism using a method play() in a base class Instrument. Derive classes Guitar\n",
    "#and Piano that implement their own version of play().\n",
    "class Instrument:\n",
    "    def play(self):\n",
    "        print(\"Playing some instrument.\")\n",
    "\n",
    "class Guitar(Instrument):\n",
    "    def play(self):\n",
    "        print(\"Playing the guitar.\")\n",
    "\n",
    "class Piano(Instrument):\n",
    "    def play(self):\n",
    "        print(\"Playing the piano.\")\n",
    "\n",
    "instruments = [Guitar(), Piano()]\n",
    "for i in instruments:\n",
    "    i.play()\n"
   ]
  },
  {
   "cell_type": "code",
   "execution_count": 20,
   "id": "40d105c9",
   "metadata": {},
   "outputs": [
    {
     "name": "stdout",
     "output_type": "stream",
     "text": [
      "Add: 15\n",
      "Subtract: 5\n"
     ]
    }
   ],
   "source": [
    "#7. Create a class MathOperations with a class method add_numbers() to add two numbers and a static\n",
    "#method subtract_numbers() to subtract two numbers.\n",
    "class MathOperations:\n",
    "    @classmethod\n",
    "    def add_numbers(cls, a, b):\n",
    "        return a + b\n",
    "\n",
    "    @staticmethod\n",
    "    def subtract_numbers(a, b):\n",
    "        return a - b\n",
    "\n",
    "print(\"Add:\", MathOperations.add_numbers(10, 5))\n",
    "print(\"Subtract:\", MathOperations.subtract_numbers(10, 5))\n"
   ]
  },
  {
   "cell_type": "code",
   "execution_count": 21,
   "id": "fd59a218",
   "metadata": {},
   "outputs": [
    {
     "name": "stdout",
     "output_type": "stream",
     "text": [
      "Total Persons: 2\n"
     ]
    }
   ],
   "source": [
    "#8. Implement a class Person with a class method to count the total number of persons created.\n",
    "class Person:\n",
    "    count = 0\n",
    "\n",
    "    def __init__(self, name):\n",
    "        self.name = name\n",
    "        Person.count += 1\n",
    "\n",
    "    @classmethod\n",
    "    def total_persons(cls):\n",
    "        return cls.count\n",
    "\n",
    "p1 = Person(\"Alice\")\n",
    "p2 = Person(\"Bob\")\n",
    "\n",
    "print(\"Total Persons:\", Person.total_persons())\n",
    "\n"
   ]
  },
  {
   "cell_type": "code",
   "execution_count": 22,
   "id": "17f13831",
   "metadata": {},
   "outputs": [
    {
     "name": "stdout",
     "output_type": "stream",
     "text": [
      "3/4\n"
     ]
    }
   ],
   "source": [
    "#9. Write a class Fraction with attributes numerator and denominator. Override the str method to display the\n",
    "#fraction as \"numerator/denominator\".\n",
    "\n",
    "class Fraction:\n",
    "    def __init__(self, numerator, denominator):\n",
    "        self.numerator = numerator\n",
    "        self.denominator = denominator\n",
    "\n",
    "    def __str__(self):\n",
    "        return f\"{self.numerator}/{self.denominator}\"\n",
    "\n",
    "f = Fraction(3, 4)\n",
    "print(f)\n"
   ]
  },
  {
   "cell_type": "code",
   "execution_count": 23,
   "id": "033d1535",
   "metadata": {},
   "outputs": [
    {
     "name": "stdout",
     "output_type": "stream",
     "text": [
      "Vector(4, 6)\n"
     ]
    }
   ],
   "source": [
    "#10. Demonstrate operator overloading by creating a class Vector and overriding the add method to add two\n",
    "#vectors.\n",
    "class Vector:\n",
    "    def __init__(self, x, y):\n",
    "        self.x = x\n",
    "        self.y = y\n",
    "\n",
    "    def __add__(self, other):\n",
    "        return Vector(self.x + other.x, self.y + other.y)\n",
    "\n",
    "    def __str__(self):\n",
    "        return f\"Vector({self.x}, {self.y})\"\n",
    "\n",
    "v1 = Vector(1, 2)\n",
    "v2 = Vector(3, 4)\n",
    "v3 = v1 + v2\n",
    "print(v3)\n"
   ]
  },
  {
   "cell_type": "code",
   "execution_count": 24,
   "id": "de65780f",
   "metadata": {},
   "outputs": [
    {
     "name": "stdout",
     "output_type": "stream",
     "text": [
      "Hello, my name is John and I am 25 years old.\n"
     ]
    }
   ],
   "source": [
    "#11. Create a class Person with attributes name and age. Add a method greet() that prints \"Hello, my name is\n",
    "#{name} and I am {age} years old.\"\n",
    "class Person:\n",
    "    def __init__(self, name, age):\n",
    "        self.name = name\n",
    "        self.age = age\n",
    "\n",
    "    def greet(self):\n",
    "        print(f\"Hello, my name is {self.name} and I am {self.age} years old.\")\n",
    "\n",
    "p = Person(\"John\", 25)\n",
    "p.greet()\n"
   ]
  },
  {
   "cell_type": "code",
   "execution_count": 26,
   "id": "21268491",
   "metadata": {},
   "outputs": [
    {
     "name": "stdout",
     "output_type": "stream",
     "text": [
      "Average Grade: 85.0\n"
     ]
    }
   ],
   "source": [
    "#12. Implement a class Student with attributes name and grades. Create a method average_grade() to compute\n",
    "#the average of the grades.\n",
    "class Student:\n",
    "    def __init__(self, name, grades):\n",
    "        self.name = name\n",
    "        self.grades = grades\n",
    "\n",
    "    def average_grade(self):\n",
    "        return sum(self.grades) / len(self.grades)\n",
    "\n",
    "s = Student(\"Ravi\", [80, 90, 85])\n",
    "print(\"Average Grade:\", s.average_grade())\n",
    "\n"
   ]
  },
  {
   "cell_type": "code",
   "execution_count": 27,
   "id": "4adaaffc",
   "metadata": {},
   "outputs": [
    {
     "name": "stdout",
     "output_type": "stream",
     "text": [
      "Area: 15\n"
     ]
    }
   ],
   "source": [
    "#13. Create a class Rectangle with methods set_dimensions() to set the dimensions and area() to calculate the\n",
    "#area.\n",
    "class Rectangle:\n",
    "    def set_dimensions(self, length, width):\n",
    "        self.length = length\n",
    "        self.width = width\n",
    "\n",
    "    def area(self):\n",
    "        return self.length * self.width\n",
    "\n",
    "r = Rectangle()\n",
    "r.set_dimensions(5, 3)\n",
    "print(\"Area:\", r.area())\n",
    "\n"
   ]
  },
  {
   "cell_type": "code",
   "execution_count": 28,
   "id": "61a25d5d",
   "metadata": {},
   "outputs": [
    {
     "name": "stdout",
     "output_type": "stream",
     "text": [
      "Employee Salary: 4000\n",
      "Manager Salary: 4500\n"
     ]
    }
   ],
   "source": [
    "#14. Create a class Employee with a method calculate_salary() that computes the salary based on hours worked\n",
    "#and hourly rate. Create a derived class Manager that adds a bonus to the salary. give ans with op\n",
    "class Employee:\n",
    "    def calculate_salary(self, hours, rate):\n",
    "        return hours * rate\n",
    "\n",
    "class Manager(Employee):\n",
    "    def calculate_salary(self, hours, rate, bonus):\n",
    "        base = super().calculate_salary(hours, rate)\n",
    "        return base + bonus\n",
    "\n",
    "e = Employee()\n",
    "m = Manager()\n",
    "\n",
    "print(\"Employee Salary:\", e.calculate_salary(40, 100))\n",
    "print(\"Manager Salary:\", m.calculate_salary(40, 100, 500))\n"
   ]
  },
  {
   "cell_type": "code",
   "execution_count": 32,
   "id": "e638fe7c",
   "metadata": {},
   "outputs": [
    {
     "name": "stdout",
     "output_type": "stream",
     "text": [
      "Product: Laptop\n",
      "Total Price: 100000\n"
     ]
    }
   ],
   "source": [
    "#15. Create a class Product with attributes name, price, and quantity. Implement a method total_price() that\n",
    "#calculates the total price of the product.\n",
    "class Product:\n",
    "    def __init__(self, name, price, quantity):\n",
    "        self.name = name\n",
    "        self.price = price\n",
    "        self.quantity = quantity\n",
    "\n",
    "    def total_price(self):\n",
    "        return self.price * self.quantity\n",
    "\n",
    "p = Product(\"Laptop\", 50000, 2)\n",
    "print(\"Product:\", p.name)\n",
    "print(\"Total Price:\", p.total_price())\n"
   ]
  },
  {
   "cell_type": "code",
   "execution_count": 33,
   "id": "62209ece",
   "metadata": {},
   "outputs": [
    {
     "name": "stdout",
     "output_type": "stream",
     "text": [
      "Cow says Moo\n",
      "Sheep says Baa\n"
     ]
    }
   ],
   "source": [
    "#16. Create a class Animal with an abstract method sound(). Create two derived classes Cow and Sheep that\n",
    "#implement the sound() method.\n",
    "from abc import ABC, abstractmethod\n",
    "\n",
    "class Animal(ABC):\n",
    "    @abstractmethod\n",
    "    def sound(self):\n",
    "        pass\n",
    "\n",
    "class Cow(Animal):\n",
    "    def sound(self):\n",
    "        print(\"Cow says Moo\")\n",
    "\n",
    "class Sheep(Animal):\n",
    "    def sound(self):\n",
    "        print(\"Sheep says Baa\")\n",
    "\n",
    "c = Cow()\n",
    "s = Sheep()\n",
    "\n",
    "c.sound()\n",
    "s.sound()\n",
    "\n"
   ]
  },
  {
   "cell_type": "code",
   "execution_count": 35,
   "id": "60a0c43a",
   "metadata": {},
   "outputs": [
    {
     "name": "stdout",
     "output_type": "stream",
     "text": [
      "'To Kill a Mockingbird' by Harper Lee, published in 1960\n"
     ]
    }
   ],
   "source": [
    "#17. Create a class Book with attributes title, author, and year_published. Add a method get_book_info() that\n",
    "#returns a formatted string with the book's details.\n",
    "\n",
    "class Book:\n",
    "    def __init__(self, title, author, year_published):\n",
    "        self.title = title\n",
    "        self.author = author\n",
    "        self.year_published = year_published\n",
    "\n",
    "    def get_book_info(self):\n",
    "        return f\"'{self.title}' by {self.author}, published in {self.year_published}\"\n",
    "\n",
    "book = Book(\"To Kill a Mockingbird\", \"Harper Lee\", 1960)\n",
    "print(book.get_book_info())\n",
    "\n"
   ]
  },
  {
   "cell_type": "code",
   "execution_count": 36,
   "id": "f3329204",
   "metadata": {},
   "outputs": [
    {
     "name": "stdout",
     "output_type": "stream",
     "text": [
      "Address: 123 Elite Street\n",
      "Price: 50000000\n",
      "Rooms: 10\n"
     ]
    }
   ],
   "source": [
    "#18. Create a class House with attributes address and price. Create a derived class Mansion that adds an\n",
    "#attribute number_of_rooms.\n",
    "#give ans with op\n",
    "class House:\n",
    "    def __init__(self, address, price):\n",
    "        self.address = address\n",
    "        self.price = price\n",
    "\n",
    "class Mansion(House):\n",
    "    def __init__(self, address, price, number_of_rooms):\n",
    "        super().__init__(address, price)\n",
    "        self.number_of_rooms = number_of_rooms\n",
    "\n",
    "m = Mansion(\"123 Elite Street\", 50000000, 10)\n",
    "print(\"Address:\", m.address)\n",
    "print(\"Price:\", m.price)\n",
    "print(\"Rooms:\", m.number_of_rooms)\n"
   ]
  }
 ],
 "metadata": {
  "kernelspec": {
   "display_name": "Python 3 (ipykernel)",
   "language": "python",
   "name": "python3"
  },
  "language_info": {
   "codemirror_mode": {
    "name": "ipython",
    "version": 3
   },
   "file_extension": ".py",
   "mimetype": "text/x-python",
   "name": "python",
   "nbconvert_exporter": "python",
   "pygments_lexer": "ipython3",
   "version": "3.11.3"
  }
 },
 "nbformat": 4,
 "nbformat_minor": 5
}
